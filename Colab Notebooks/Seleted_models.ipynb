{
  "cells": [
    {
      "cell_type": "code",
      "execution_count": null,
      "metadata": {
        "colab": {
          "base_uri": "https://localhost:8080/"
        },
        "id": "fmU59g5_NPHz",
        "outputId": "84d5d976-a879-4fb2-f0af-f9656873e680"
      },
      "outputs": [
        {
          "name": "stdout",
          "output_type": "stream",
          "text": [
            "Drive already mounted at /content/gdrive; to attempt to forcibly remount, call drive.mount(\"/content/gdrive\", force_remount=True).\n"
          ]
        }
      ],
      "source": [
        "# from google.colab import drive \n",
        "# drive.mount('/content/gdrive')"
      ]
    },
    {
      "cell_type": "code",
      "execution_count": 25,
      "metadata": {
        "id": "algXxNb9NXyx"
      },
      "outputs": [],
      "source": [
        "from matplotlib import pyplot as plt\n",
        "from sklearn.metrics import classification_report, plot_confusion_matrix, roc_curve, auc, confusion_matrix, accuracy_score\n",
        "from seaborn import heatmap\n",
        "\n",
        "def plot_roc_curve(y_true, y_probas, title='ROC Curves',\n",
        "                   plot_micro=True, plot_macro=True, classes_to_plot=None,\n",
        "                   ax=None, figsize=None, cmap='nipy_spectral',\n",
        "                   title_fontsize=\"large\", text_fontsize=\"medium\"):\n",
        "    y_true = np.array(y_true)\n",
        "    y_probas = np.array(y_probas)\n",
        "\n",
        "    classes = np.unique(y_true)\n",
        "    probas = y_probas\n",
        "\n",
        "    if classes_to_plot is None:\n",
        "        classes_to_plot = classes\n",
        "\n",
        "    if ax is None:\n",
        "        fig, ax = plt.subplots(1, 1, figsize=figsize)\n",
        "\n",
        "    ax.set_title(title, fontsize=title_fontsize)\n",
        "\n",
        "    fpr_dict = dict()\n",
        "    tpr_dict = dict()\n",
        "\n",
        "    indices_to_plot = np.in1d(classes, classes_to_plot)\n",
        "    for i, to_plot in enumerate(indices_to_plot):\n",
        "        fpr_dict[i], tpr_dict[i], _ = roc_curve(y_true, probas[:, i],\n",
        "                                                pos_label=classes[i])\n",
        "        if to_plot:\n",
        "            roc_auc = auc(fpr_dict[i], tpr_dict[i])\n",
        "            color = plt.cm.get_cmap(cmap)(float(i) / len(classes))\n",
        "            ax.plot(fpr_dict[i], tpr_dict[i], lw=2, color=color,\n",
        "                    label='ROC curve of class {0} (area = {1:0.2f})'\n",
        "                          ''.format(classes[i], roc_auc))\n",
        "    ax.plot([0, 1], [0, 1], 'k--', lw=2)\n",
        "    ax.set_xlim([0.0, 1.0])\n",
        "    ax.set_ylim([0.0, 1.05])\n",
        "    ax.set_xlabel('False Positive Rate', fontsize=text_fontsize)\n",
        "    ax.set_ylabel('True Positive Rate', fontsize=text_fontsize)\n",
        "    ax.tick_params(labelsize=text_fontsize)\n",
        "    ax.legend(loc='lower right', fontsize=text_fontsize)\n",
        "    return ax\n",
        "\n",
        "def classify(m, X, y):\n",
        "  y_pred = []\n",
        "  y_prob = []\n",
        "  for i in range(len(y)):\n",
        "    X_test = X[i, :].reshape(1, -1)\n",
        "    X_train = np.delete(X, i, axis=0)\n",
        "    y_test = y[i]\n",
        "    y_train = np.delete(y, i)\n",
        "    m.fit(X_train, y_train)\n",
        "    y_pred.append(m.predict(X_test))\n",
        "    y_prob.append(m.predict_proba(X_test))\n",
        "  y_prob = np.squeeze(y_prob)\n",
        "  y_pred = np.squeeze(y_pred)\n",
        "  return y_prob, y_pred\n",
        "\n",
        "def plot_model(m, X, y, labels):\n",
        "  y_prob, y_pred = classify(m, X, y)\n",
        "  print('Accuracy score: ' + str(accuracy_score(y, y_pred)))\n",
        "  heatmap(confusion_matrix(y, y_pred), annot=True, fmt='d', cmap=plt.cm.Blues, xticklabels=labels, yticklabels=labels)\n",
        "  plt.xlabel('Predicted Label')\n",
        "  plt.ylabel('True Label')\n",
        "  plt.show()\n",
        "  heatmap(confusion_matrix(y, y_pred, normalize='true'), annot=True, cmap=plt.cm.Blues, xticklabels=labels, yticklabels=labels)\n",
        "  plt.xlabel('Predicted Label')\n",
        "  plt.ylabel('True Label')\n",
        "  plt.show()\n",
        "  plot_roc_curve(y, y_prob, plot_macro='False', plot_micro='False')\n",
        "  plt.show()\n",
        "  return y_prob, y_pred"
      ]
    },
    {
      "cell_type": "code",
      "execution_count": 26,
      "metadata": {
        "colab": {
          "base_uri": "https://localhost:8080/"
        },
        "id": "feIgqFtQNnmt",
        "outputId": "7b059936-6e21-4031-89aa-1014c749d7e6"
      },
      "outputs": [
        {
          "data": {
            "text/plain": [
              "MCI        130\n",
              "DEMENZA     62\n",
              "NORMALI     30\n",
              "MCI          1\n",
              "Name: DGN1, dtype: int64"
            ]
          },
          "execution_count": 26,
          "metadata": {},
          "output_type": "execute_result"
        }
      ],
      "source": [
        "import os\n",
        "import pandas as pd\n",
        "\n",
        "root = '../'\n",
        "df = pd.read_csv(os.path.join(root, 'Database completo .csv'), header=0, index_col=0, delimiter=';')\n",
        "result = pd.read_csv(os.path.join(root, 'miei_result.csv'), header=0, index_col=0)\n",
        "df = df.loc[result.index.values]\n",
        "\n",
        "df[df.columns[-1]].value_counts()"
      ]
    },
    {
      "cell_type": "code",
      "execution_count": 27,
      "metadata": {
        "colab": {
          "base_uri": "https://localhost:8080/"
        },
        "id": "FWV0YNLeNs9c",
        "outputId": "8704ca09-b72b-4df1-f91b-ffef9c0dbe50"
      },
      "outputs": [
        {
          "name": "stdout",
          "output_type": "stream",
          "text": [
            "[1 1 2 2 0 2 2 2 2 1 1 1 1 1 0 1 0 0 1 1 1 2 1 1 2 1 1 2 1 0 2 2 2 1 1 1 1\n",
            " 1 1 0 0 1 1 1 0 1 1 0 0 1 0 1 1 1 1 1 0 1 0 1 1 1 0 1 1 1 0 1 1 0 1 0 1 1\n",
            " 0 1 1 1 1 2 1 2 2 1 1 1 1 0 1 1 1 1 1 1 1 0 1 0 1 1 1 1 2 1 2 1 1 1 0 1 0\n",
            " 1 2 1 1 0 0 1 1 0 1 2 0 2 2 1 1 1 1 1 2 1 1 1 1 1 1 2 1 1 1 2 1 1 1 1 1 1\n",
            " 0 2 1 1 1 1 1 2 1 2 2 2 2 2 2 2 1 2 2 2 2 1 1 1 2 2 2 2 2 1 1 2 1 1 2 1 1\n",
            " 1 1 2 1 2 2 1 1 2 0 1 1 1 1 2 2 2 2 2 2 2 2 1 2 1 2 1 2 1 1 1 2 1 2 1 2 1\n",
            " 0]\n"
          ]
        }
      ],
      "source": [
        "from sklearn.model_selection import LeaveOneOut, GridSearchCV, train_test_split, cross_val_score\n",
        "from sklearn.svm import SVC\n",
        "from sklearn.preprocessing import StandardScaler\n",
        "import numpy as np\n",
        "\n",
        "def label(s):\n",
        "    if s == 'NORMALI':\n",
        "        return 0\n",
        "    if s == 'MCI':\n",
        "        return 1\n",
        "    if s == 'DEMENZA':\n",
        "        return 2\n",
        "\n",
        "y = df.iloc[:,-1].to_numpy().astype(str)\n",
        "unique = np.unique(y)\n",
        "mapping = {}\n",
        "for i in range(len(unique)):\n",
        "     mapping[i] = np.where(y == unique[i])[0]\n",
        "for idx in mapping[2]:\n",
        "    y[idx] = unique[1]\n",
        "\n",
        "y_3 = np.array(list(map(label, y)))\n",
        "print(y_3)\n"
      ]
    },
    {
      "cell_type": "code",
      "execution_count": 28,
      "metadata": {
        "colab": {
          "base_uri": "https://localhost:8080/"
        },
        "id": "QvoatByHvcjC",
        "outputId": "f6ce7fe8-0410-4151-a7ad-1cedba6ec6d5"
      },
      "outputs": [
        {
          "name": "stdout",
          "output_type": "stream",
          "text": [
            "(223, 18)\n",
            "[1 1 1 1 0 1 1 1 1 1 1 1 1 1 0 1 0 0 1 1 1 1 1 1 1 1 1 1 1 0 1 1 1 1 1 1 1\n",
            " 1 1 0 0 1 1 1 0 1 1 0 0 1 0 1 1 1 1 1 0 1 0 1 1 1 0 1 1 1 0 1 1 0 1 0 1 1\n",
            " 0 1 1 1 1 1 1 1 1 1 1 1 1 0 1 1 1 1 1 1 1 0 1 0 1 1 1 1 1 1 1 1 1 1 0 1 0\n",
            " 1 1 1 1 0 0 1 1 0 1 1 0 1 1 1 1 1 1 1 1 1 1 1 1 1 1 1 1 1 1 1 1 1 1 1 1 1\n",
            " 0 1 1 1 1 1 1 1 1 1 1 1 1 1 1 1 1 1 1 1 1 1 1 1 1 1 1 1 1 1 1 1 1 1 1 1 1\n",
            " 1 1 1 1 1 1 1 1 1 0 1 1 1 1 1 1 1 1 1 1 1 1 1 1 1 1 1 1 1 1 1 1 1 1 1 1 1\n",
            " 0]\n"
          ]
        }
      ],
      "source": [
        "X = result.to_numpy()\n",
        "scaler_norm_pat = StandardScaler().fit(X)\n",
        "X_s = scaler_norm_pat.transform(X)\n",
        "print(X.shape)\n",
        "\n",
        "y_norm_pat = np.array([0 if s==0 else 1 for s in y_3])\n",
        "print(y_norm_pat)\n"
      ]
    },
    {
      "cell_type": "code",
      "execution_count": 29,
      "metadata": {
        "colab": {
          "base_uri": "https://localhost:8080/"
        },
        "id": "dFZ0OUl9N_ju",
        "outputId": "38b25a82-4152-4999-f52b-067873413d54"
      },
      "outputs": [
        {
          "name": "stdout",
          "output_type": "stream",
          "text": [
            "Fitting 223 folds for each of 90 candidates, totalling 20070 fits\n"
          ]
        },
        {
          "name": "stderr",
          "output_type": "stream",
          "text": [
            "[Parallel(n_jobs=-1)]: Using backend LokyBackend with 8 concurrent workers.\n",
            "[Parallel(n_jobs=-1)]: Done  34 tasks      | elapsed:    6.0s\n",
            "[Parallel(n_jobs=-1)]: Done 976 tasks      | elapsed:    9.1s\n",
            "[Parallel(n_jobs=-1)]: Done 2976 tasks      | elapsed:   14.7s\n",
            "[Parallel(n_jobs=-1)]: Done 5776 tasks      | elapsed:   23.0s\n",
            "[Parallel(n_jobs=-1)]: Done 9376 tasks      | elapsed:   32.6s\n",
            "[Parallel(n_jobs=-1)]: Done 13776 tasks      | elapsed:   47.1s\n",
            "[Parallel(n_jobs=-1)]: Done 18976 tasks      | elapsed:  1.1min\n"
          ]
        },
        {
          "name": "stdout",
          "output_type": "stream",
          "text": [
            "LOOCV score = 0.820627802690583\n",
            "model : SVC(C=1, break_ties=False, cache_size=200, class_weight='balanced', coef0=0.0,\n",
            "    decision_function_shape='ovr', degree=3, gamma='scale', kernel='poly',\n",
            "    max_iter=-1, probability=True, random_state=0, shrinking=True, tol=0.001,\n",
            "    verbose=False)\n"
          ]
        },
        {
          "name": "stderr",
          "output_type": "stream",
          "text": [
            "[Parallel(n_jobs=-1)]: Done 20070 out of 20070 | elapsed:  1.2min finished\n"
          ]
        }
      ],
      "source": [
        "\n",
        "param_grid = {'C': [0.01, 0.1, 1, 10, 100, 1000],\n",
        "      'coef0': np.linspace(-10, 10, 5),\n",
        "      'degree': [2, 3, 4]}\n",
        "svm_poly = GridSearchCV(SVC(kernel='poly', class_weight='balanced', probability=True, random_state=0), param_grid,\n",
        "                        cv=LeaveOneOut(), refit=True, n_jobs=-1, verbose=1)\n",
        "svm_poly.fit(X_s, y_norm_pat)\n",
        "\n",
        "names = ['poly']\n",
        "for m in [svm_poly]:\n",
        "  m_best = m.best_estimator_\n",
        "  print('LOOCV score = {}'.format(m.best_score_))\n",
        "  print('model : {}'.format(m_best))\n",
        "  #plot_model(m_best, X_s, y_norm_pat, ['NORMAL', 'PATHOLOGICAL'])\n",
        "\n",
        "m_norm_pat = svm_poly.best_estimator_"
      ]
    },
    {
      "cell_type": "code",
      "execution_count": 7,
      "metadata": {},
      "outputs": [
        {
          "data": {
            "text/plain": [
              "['../new_models/svm_scaler_normal_to_pathology.joblib']"
            ]
          },
          "execution_count": 7,
          "metadata": {},
          "output_type": "execute_result"
        }
      ],
      "source": [
        "import joblib\n",
        "joblib.dump(m_norm_pat, '../new_models/svm_model_normal_to_pathology.joblib')\n",
        "joblib.dump(scaler_norm_pat, '../new_models/svm_scaler_normal_to_pathology.joblib')"
      ]
    },
    {
      "cell_type": "code",
      "execution_count": 30,
      "metadata": {
        "colab": {
          "base_uri": "https://localhost:8080/"
        },
        "id": "2ZQp48UauWZW",
        "outputId": "c652557f-376a-406e-ec04-b38b95029bfa"
      },
      "outputs": [
        {
          "name": "stdout",
          "output_type": "stream",
          "text": [
            "[131  62]\n"
          ]
        }
      ],
      "source": [
        "idx_2 = np.where(y_3 != 0)[0]\n",
        "X_mci_dem = X[idx_2]\n",
        "scaler_mci_dem = StandardScaler().fit(X_mci_dem)\n",
        "X_s_mci_dem = scaler_mci_dem.transform(X_mci_dem)\n",
        "y_mci_dem = y_3[idx_2] - 1\n",
        "print(np.bincount(y_mci_dem))"
      ]
    },
    {
      "cell_type": "code",
      "execution_count": 31,
      "metadata": {
        "colab": {
          "base_uri": "https://localhost:8080/"
        },
        "id": "q1Fru0m5vgFJ",
        "outputId": "3d385177-901e-4bd4-8652-3fc210e1dac8"
      },
      "outputs": [
        {
          "data": {
            "text/plain": [
              "array([[3, 1, 3, ..., 3, 3, 3],\n",
              "       [3, 1, 3, ..., 3, 3, 3],\n",
              "       [1, 1, 1, ..., 3, 3, 1],\n",
              "       ...,\n",
              "       [1, 1, 1, ..., 2, 1, 1],\n",
              "       [1, 0, 1, ..., 0, 3, 0],\n",
              "       [1, 3, 1, ..., 2, 1, 1]], dtype=int64)"
            ]
          },
          "execution_count": 31,
          "metadata": {},
          "output_type": "execute_result"
        }
      ],
      "source": [
        "X_mci_dem"
      ]
    },
    {
      "cell_type": "code",
      "execution_count": 32,
      "metadata": {
        "colab": {
          "base_uri": "https://localhost:8080/"
        },
        "id": "Vzx5Y7Dju_g6",
        "outputId": "7a1b1865-8e4e-419e-d1cc-4941c178be30"
      },
      "outputs": [
        {
          "name": "stdout",
          "output_type": "stream",
          "text": [
            "Fitting 193 folds for each of 90 candidates, totalling 17370 fits\n"
          ]
        },
        {
          "name": "stderr",
          "output_type": "stream",
          "text": [
            "[Parallel(n_jobs=-1)]: Using backend LokyBackend with 8 concurrent workers.\n",
            "[Parallel(n_jobs=-1)]: Done  56 tasks      | elapsed:    0.4s\n",
            "[Parallel(n_jobs=-1)]: Done 1200 tasks      | elapsed:    3.6s\n",
            "[Parallel(n_jobs=-1)]: Done 3200 tasks      | elapsed:    9.4s\n",
            "[Parallel(n_jobs=-1)]: Done 6000 tasks      | elapsed:   19.2s\n",
            "[Parallel(n_jobs=-1)]: Done 9600 tasks      | elapsed:   32.8s\n",
            "[Parallel(n_jobs=-1)]: Done 12544 tasks      | elapsed:   48.7s\n",
            "[Parallel(n_jobs=-1)]: Done 16328 tasks      | elapsed:  1.2min\n"
          ]
        },
        {
          "name": "stdout",
          "output_type": "stream",
          "text": [
            "LOOCV score = 1.0\n",
            "model : SVC(C=0.01, break_ties=False, cache_size=200, class_weight='balanced',\n",
            "    coef0=0.0, decision_function_shape='ovr', degree=2, gamma='scale',\n",
            "    kernel='poly', max_iter=-1, probability=True, random_state=0,\n",
            "    shrinking=True, tol=0.001, verbose=False)\n"
          ]
        },
        {
          "name": "stderr",
          "output_type": "stream",
          "text": [
            "[Parallel(n_jobs=-1)]: Done 17355 out of 17370 | elapsed:  1.4min remaining:    0.0s\n",
            "[Parallel(n_jobs=-1)]: Done 17370 out of 17370 | elapsed:  1.4min finished\n"
          ]
        }
      ],
      "source": [
        "param_grid = {'C': [0.01, 0.1, 1, 10, 100, 1000],\n",
        "      'coef0': np.linspace(-10, 10, 5),\n",
        "      'degree': [2, 3, 4]}\n",
        "svm_poly = GridSearchCV(SVC(kernel='poly', class_weight='balanced', probability=True, random_state=0), param_grid,\n",
        "                        cv=LeaveOneOut(), refit=True, n_jobs=-1, verbose=1)\n",
        "svm_poly.fit(X_s_mci_dem, y_mci_dem)\n",
        "\n",
        "for m in [svm_poly]:\n",
        "  m_best = m.best_estimator_\n",
        "  print('LOOCV score = {}'.format(m.best_score_))\n",
        "  print('model : {}'.format(m_best))\n",
        "  #plot_model(m_best, X_s_mci_dem, y_mci_dem, ['MCI', 'DEMENTIA'])\n",
        "\n",
        "m_MCI_dem = svm_poly.best_estimator_"
      ]
    },
    {
      "cell_type": "code",
      "execution_count": 11,
      "metadata": {},
      "outputs": [
        {
          "data": {
            "text/plain": [
              "['../new_models/svm_scaler_MCI_to_dementia.joblib']"
            ]
          },
          "execution_count": 11,
          "metadata": {},
          "output_type": "execute_result"
        }
      ],
      "source": [
        "\n",
        "joblib.dump(m_MCI_dem, '../new_models/svm_model_MCI_to_dementia.joblib')\n",
        "joblib.dump(scaler_mci_dem, '../new_models/svm_scaler_MCI_to_dementia.joblib')"
      ]
    },
    {
      "cell_type": "code",
      "execution_count": 23,
      "metadata": {},
      "outputs": [],
      "source": [
        "from sklearn.calibration import CalibratedClassifierCV\n",
        "clf = CalibratedClassifierCV(m_MCI_dem)\n",
        "clf.fit(X_s_mci_dem, y_mci_dem)\n",
        "test_score = scaler_mci_dem.transform([[3, 3, 3, 3, 3, 3, 3, 1, 3, 1, 0, 3, 3, 3, 3, 2, 1, 2]])\n",
        "proba = clf.predict_proba(test_score)"
      ]
    },
    {
      "cell_type": "code",
      "execution_count": 21,
      "metadata": {},
      "outputs": [
        {
          "data": {
            "text/plain": [
              "array([[0.73190512, 0.26809488]])"
            ]
          },
          "execution_count": 21,
          "metadata": {},
          "output_type": "execute_result"
        }
      ],
      "source": [
        "proba"
      ]
    },
    {
      "cell_type": "code",
      "execution_count": 36,
      "metadata": {},
      "outputs": [
        {
          "data": {
            "text/plain": [
              "array([1])"
            ]
          },
          "execution_count": 36,
          "metadata": {},
          "output_type": "execute_result"
        }
      ],
      "source": [
        "test_score = scaler_mci_dem.transform([[3, 3, 3, 3, 3, 3, 3, 1, 3, 1, 0, 3, 3, 3, 3, 2, 1, 2]])\n",
        "m_MCI_dem.predict(test_score)"
      ]
    },
    {
      "cell_type": "code",
      "execution_count": null,
      "metadata": {
        "colab": {
          "base_uri": "https://localhost:8080/",
          "height": 1000
        },
        "id": "0UgvC1xB06Tw",
        "outputId": "e8747fda-c2fa-4bdd-e6a1-01bdb2cce087"
      },
      "outputs": [
        {
          "name": "stdout",
          "output_type": "stream",
          "text": [
            "Accuracy score: 0.820627802690583\n"
          ]
        },
        {
          "data": {
            "image/png": "[encoded data removed]",
            "text/plain": [
              "<Figure size 432x288 with 2 Axes>"
            ]
          },
          "metadata": {
            "needs_background": "light",
            "tags": []
          },
          "output_type": "display_data"
        },
        {
          "data": {
            "image/png": "[encoded data removed]",
            "text/plain": [
              "<Figure size 432x288 with 2 Axes>"
            ]
          },
          "metadata": {
            "needs_background": "light",
            "tags": []
          },
          "output_type": "display_data"
        },
        {
          "data": {
            "image/png": "[encoded data removed]",
            "text/plain": [
              "<Figure size 432x288 with 1 Axes>"
            ]
          },
          "metadata": {
            "needs_background": "light",
            "tags": []
          },
          "output_type": "display_data"
        },
        {
          "name": "stdout",
          "output_type": "stream",
          "text": [
            "Accuracy score: 1.0\n"
          ]
        },
        {
          "data": {
            "image/png": "[encoded data removed]",
            "text/plain": [
              "<Figure size 432x288 with 2 Axes>"
            ]
          },
          "metadata": {
            "needs_background": "light",
            "tags": []
          },
          "output_type": "display_data"
        },
        {
          "data": {
            "image/png": "[encoded data removed]",
            "text/plain": [
              "<Figure size 432x288 with 2 Axes>"
            ]
          },
          "metadata": {
            "needs_background": "light",
            "tags": []
          },
          "output_type": "display_data"
        },
        {
          "data": {
            "image/png": "[encoded data removed]",
            "text/plain": [
              "<Figure size 432x288 with 1 Axes>"
            ]
          },
          "metadata": {
            "needs_background": "light",
            "tags": []
          },
          "output_type": "display_data"
        }
      ],
      "source": [
        "y_prob_norm_pat, y_pred1 = plot_model(m_norm_pat, X_s, y_norm_pat, ['NORMAL', 'PATHOLOGICAL'])\n",
        "y_prob_MCI_dem, y_pred2 = plot_model(m_MCI_dem, X_s_mci_dem, y_mci_dem, ['MCI', 'DEMENTIA'])\n"
      ]
    },
    {
      "cell_type": "code",
      "execution_count": null,
      "metadata": {
        "colab": {
          "base_uri": "https://localhost:8080/"
        },
        "id": "B5K_W-90Ro8f",
        "outputId": "f22b1d25-f7e7-47db-c8eb-fa6fcb513470"
      },
      "outputs": [
        {
          "name": "stdout",
          "output_type": "stream",
          "text": [
            "[1 1 2 2 0 2 2 2 2 1 1 1 1 1 0 1 0 0 1 1 1 2 1 1 2 1 1 2 1 0 2 2 2 1 1 1 1\n",
            " 1 1 0 0 1 1 1 0 1 1 0 0 1 0 1 1 1 1 1 0 1 0 1 1 1 0 1 1 1 0 1 1 0 1 0 1 1\n",
            " 0 1 1 1 1 2 1 2 2 1 1 1 1 0 1 1 1 1 1 1 1 0 1 0 1 1 1 1 2 1 2 1 1 1 0 1 0\n",
            " 1 2 1 1 0 0 1 1 0 1 2 0 2 2 1 1 1 1 1 2 1 1 1 1 1 1 2 1 1 1 2 1 1 1 1 1 1\n",
            " 0 2 1 1 1 1 1 2 1 2 2 2 2 2 2 2 1 2 2 2 2 1 1 1 2 2 2 2 2 1 1 2 1 1 2 1 1\n",
            " 1 1 2 1 2 2 1 1 2 0 1 1 1 1 2 2 2 2 2 2 2 2 1 2 1 2 1 2 1 1 1 2 1 2 1 2 1\n",
            " 0]\n",
            "[0 0 1 1 0 1 1 1 1 1 1 1 1 1 1 1 1 1 0 1 1 1 1 1 1 1 1 1 0 0 1 1 1 0 1 0 0\n",
            " 1 0 0 0 1 1 1 1 0 0 0 0 1 0 0 1 1 0 1 1 1 1 1 1 1 0 0 0 1 1 1 1 0 1 0 1 1\n",
            " 0 1 1 1 1 0 1 1 1 1 1 0 1 1 1 1 1 1 1 0 1 1 1 0 0 1 1 1 1 1 0 1 0 1 0 1 0\n",
            " 0 1 1 0 0 1 1 1 0 1 1 1 1 1 1 1 1 1 1 0 0 1 1 1 1 1 0 1 1 0 1 1 1 1 0 0 1\n",
            " 0 1 1 1 1 1 1 1 1 1 1 1 1 1 1 1 1 1 1 1 1 1 1 1 1 1 1 1 1 1 1 1 1 1 1 1 1\n",
            " 1 1 1 1 1 1 1 1 1 0 1 1 1 1 1 1 1 1 1 1 1 1 1 1 1 1 1 1 1 1 1 1 1 1 1 1 1\n",
            " 1]\n",
            "[1 1 2 2 2 2 2 2 1 1 1 1 1 1 1 1 1 2 1 1 2 1 1 2 1 2 2 2 1 1 1 1 1 1 1 1 1\n",
            " 1 1 1 1 1 1 1 1 1 1 1 1 1 1 1 1 1 1 1 1 1 1 1 1 2 1 2 2 1 1 1 1 1 1 1 1 1\n",
            " 1 1 1 1 1 1 1 2 1 2 1 1 1 1 1 2 1 1 1 1 1 2 2 2 1 1 1 1 1 2 1 1 1 1 1 1 2\n",
            " 1 1 1 2 1 1 1 1 1 1 2 1 1 1 1 1 2 1 2 2 2 2 2 2 2 1 2 2 2 2 1 1 1 2 2 2 2\n",
            " 2 1 1 2 1 1 2 1 1 1 1 2 1 2 2 1 1 2 1 1 1 1 2 2 2 2 2 2 2 2 1 2 1 2 1 2 1\n",
            " 1 1 2 1 2 1 2 1]\n",
            "(223,)\n",
            "(223,)\n",
            "(193,)\n",
            "[  0   1   2   3   5   6   7   8   9  10  11  12  13  15  18  19  20  21\n",
            "  22  23  24  25  26  27  28  30  31  32  33  34  35  36  37  38  41  42\n",
            "  43  45  46  49  51  52  53  54  55  57  59  60  61  63  64  65  67  68\n",
            "  70  72  73  75  76  77  78  79  80  81  82  83  84  85  86  88  89  90\n",
            "  91  92  93  94  96  98  99 100 101 102 103 104 105 106 107 109 111 112\n",
            " 113 114 117 118 120 121 123 124 125 126 127 128 129 130 131 132 133 134\n",
            " 135 136 137 138 139 140 141 142 143 144 145 146 147 149 150 151 152 153\n",
            " 154 155 156 157 158 159 160 161 162 163 164 165 166 167 168 169 170 171\n",
            " 172 173 174 175 176 177 178 179 180 181 182 183 184 185 186 187 188 189\n",
            " 190 191 192 193 195 196 197 198 199 200 201 202 203 204 205 206 207 208\n",
            " 209 210 211 212 213 214 215 216 217 218 219 220 221]\n",
            "[  2   3   5   6   7   8   9  10  11  12  13  14  15  16  17  19  20  21\n",
            "  22  23  24  25  26  27  30  31  32  34  37  41  42  43  44  49  52  53\n",
            "  55  56  57  58  59  60  61  65  66  67  68  70  72  73  75  76  77  78\n",
            "  80  81  82  83  84  86  87  88  89  90  91  92  94  95  96  99 100 101\n",
            " 102 103 105 107 109 112 113 116 117 118 120 121 122 123 124 125 126 127\n",
            " 128 129 132 133 134 135 136 138 139 141 142 143 144 147 149 150 151 152\n",
            " 153 154 155 156 157 158 159 160 161 162 163 164 165 166 167 168 169 170\n",
            " 171 172 173 174 175 176 177 178 179 180 181 182 183 184 185 186 187 188\n",
            " 189 190 191 192 193 195 196 197 198 199 200 201 202 203 204 205 206 207\n",
            " 208 209 210 211 212 213 214 215 216 217 218 219 220 221 222]\n"
          ]
        }
      ],
      "source": [
        "print(y_3)\n",
        "print(y_pred1)\n",
        "print(y_pred2+1)\n",
        "print(y_3.shape)\n",
        "print(y_pred1.shape)\n",
        "print(y_pred2.shape)\n",
        "patologici = np.where(y_pred1 == 1)[0]\n",
        "print(idx_2)\n",
        "print(patologici)"
      ]
    },
    {
      "cell_type": "code",
      "execution_count": null,
      "metadata": {
        "colab": {
          "base_uri": "https://localhost:8080/"
        },
        "id": "o4EiYbegU8Il",
        "outputId": "845f23cb-9828-4cab-e3c6-4c0a6adaf76c"
      },
      "outputs": [
        {
          "name": "stdout",
          "output_type": "stream",
          "text": [
            "[  2   3   5   6   7   8   9  10  11  12  13  15  19  20  21  22  23  24\n",
            "  25  26  27  30  31  32  34  37  41  42  43  49  52  53  55  57  59  60\n",
            "  61  65  67  68  70  72  73  75  76  77  78  80  81  82  83  84  86  88\n",
            "  89  90  91  92  94  96  99 100 101 102 103 105 107 109 112 113 117 118\n",
            " 120 121 123 124 125 126 127 128 129 132 133 134 135 136 138 139 141 142\n",
            " 143 144 147 149 150 151 152 153 154 155 156 157 158 159 160 161 162 163\n",
            " 164 165 166 167 168 169 170 171 172 173 174 175 176 177 178 179 180 181\n",
            " 182 183 184 185 186 187 188 189 190 191 192 193 195 196 197 198 199 200\n",
            " 201 202 203 204 205 206 207 208 209 210 211 212 213 214 215 216 217 218\n",
            " 219 220 221]\n"
          ]
        }
      ],
      "source": [
        "pat_intersect = np.intersect1d(patologici, idx_2)\n",
        "print(pat_intersect)"
      ]
    },
    {
      "cell_type": "code",
      "execution_count": null,
      "metadata": {
        "colab": {
          "base_uri": "https://localhost:8080/"
        },
        "id": "s636sCRwVJPP",
        "outputId": "1d0ba68d-cea6-43d5-c479-95a791b8fe6a"
      },
      "outputs": [
        {
          "name": "stdout",
          "output_type": "stream",
          "text": [
            "165\n"
          ]
        }
      ],
      "source": [
        "print(len(pat_intersect))"
      ]
    },
    {
      "cell_type": "code",
      "execution_count": null,
      "metadata": {
        "colab": {
          "base_uri": "https://localhost:8080/"
        },
        "id": "wY7d-j95Vkf4",
        "outputId": "485b171a-d222-44fa-cc9d-1a88d335ecef"
      },
      "outputs": [
        {
          "name": "stdout",
          "output_type": "stream",
          "text": [
            "[False False  True  True  True  True  True  True  True  True  True  True\n",
            "  True  True False  True  True  True  True  True  True  True  True  True\n",
            " False  True  True  True False  True False False  True False  True  True\n",
            "  True False False  True False  True  True False  True  True  True  True\n",
            "  True False False  True  True  True  True  True  True  True  True  True\n",
            "  True False  True  True  True  True  True False  True  True  True  True\n",
            "  True  True False  True  True False  True  True  True  True  True False\n",
            "  True False  True  True False  True  True False  True  True  True  True\n",
            "  True  True  True  True  True  True  True False False  True  True  True\n",
            "  True  True False  True  True False  True  True  True  True False False\n",
            "  True  True  True  True  True  True  True  True  True  True  True  True\n",
            "  True  True  True  True  True  True  True  True  True  True  True  True\n",
            "  True  True  True  True  True  True  True  True  True  True  True  True\n",
            "  True  True  True  True  True  True  True  True  True  True  True  True\n",
            "  True  True  True  True  True  True  True  True  True  True  True  True\n",
            "  True  True  True  True  True  True  True  True  True  True  True  True\n",
            "  True]\n"
          ]
        }
      ],
      "source": [
        "print(np.array([i in pat_intersect for i in idx_2]))\n",
        "classified_pat = np.array([i in pat_intersect for i in idx_2])"
      ]
    },
    {
      "cell_type": "code",
      "execution_count": null,
      "metadata": {
        "colab": {
          "base_uri": "https://localhost:8080/"
        },
        "id": "XHv-JJzVWVYz",
        "outputId": "29ff91f8-e2ac-4542-b971-af8c971488c6"
      },
      "outputs": [
        {
          "name": "stdout",
          "output_type": "stream",
          "text": [
            "[2 2 2 2 2 2 1 1 1 1 1 1 1 1 2 1 1 2 1 1 2 2 2 2 1 1 1 1 1 1 1 1 1 1 1 1 1\n",
            " 1 1 1 1 1 1 1 1 1 1 1 2 2 1 1 1 1 1 1 1 1 1 1 1 1 1 2 1 1 1 1 2 1 1 1 1 2\n",
            " 2 2 1 1 1 1 1 1 1 1 1 1 1 1 2 1 1 1 1 2 1 1 1 1 1 2 1 2 2 2 2 2 2 2 1 2 2\n",
            " 2 2 1 1 1 2 2 2 2 2 1 1 2 1 1 2 1 1 1 1 2 1 2 2 1 1 2 1 1 1 1 2 2 2 2 2 2\n",
            " 2 2 1 2 1 2 1 2 1 1 1 2 1 2 1 2 1]\n",
            "[0 0 2 2 0 2 2 2 2 1 1 1 1 1 1 1 1 1 0 1 1 2 1 1 2 1 1 2 0 0 2 2 2 0 1 0 0\n",
            " 1 0 0 0 1 1 1 1 0 0 0 0 1 0 0 1 1 0 1 1 1 1 1 1 1 0 0 0 1 1 1 1 0 1 0 1 1\n",
            " 0 1 1 1 1 0 1 2 2 1 1 0 1 1 1 1 1 1 1 0 1 1 1 0 0 1 1 1 2 1 0 1 0 1 0 1 0\n",
            " 0 2 1 0 0 1 1 1 0 1 2 1 2 2 1 1 1 1 1 0 0 1 1 1 1 1 0 1 1 0 2 1 1 1 0 0 1\n",
            " 0 2 1 1 1 1 1 2 1 2 2 2 2 2 2 2 1 2 2 2 2 1 1 1 2 2 2 2 2 1 1 2 1 1 2 1 1\n",
            " 1 1 2 1 2 2 1 1 2 0 1 1 1 1 2 2 2 2 2 2 2 2 1 2 1 2 1 2 1 1 1 2 1 2 1 2 1\n",
            " 1]\n"
          ]
        }
      ],
      "source": [
        "y_finale = y_pred1.copy()\n",
        "selected = y_pred2[classified_pat] + 1\n",
        "print(selected)\n",
        "y_finale[pat_intersect] = selected\n",
        "print(y_finale)"
      ]
    },
    {
      "cell_type": "code",
      "execution_count": null,
      "metadata": {
        "colab": {
          "base_uri": "https://localhost:8080/"
        },
        "id": "snsSxrGNW_oy",
        "outputId": "1960e2b3-4b68-458f-fd84-44e3e9d12474"
      },
      "outputs": [
        {
          "name": "stdout",
          "output_type": "stream",
          "text": [
            "[1 1 2 2 0 2 2 2 2 1 1 1 1 1 0 1 0 0 1 1 1 2 1 1 2 1 1 2 1 0 2 2 2 1 1 1 1\n",
            " 1 1 0 0 1 1 1 0 1 1 0 0 1 0 1 1 1 1 1 0 1 0 1 1 1 0 1 1 1 0 1 1 0 1 0 1 1\n",
            " 0 1 1 1 1 2 1 2 2 1 1 1 1 0 1 1 1 1 1 1 1 0 1 0 1 1 1 1 2 1 2 1 1 1 0 1 0\n",
            " 1 2 1 1 0 0 1 1 0 1 2 0 2 2 1 1 1 1 1 2 1 1 1 1 1 1 2 1 1 1 2 1 1 1 1 1 1\n",
            " 0 2 1 1 1 1 1 2 1 2 2 2 2 2 2 2 1 2 2 2 2 1 1 1 2 2 2 2 2 1 1 2 1 1 2 1 1\n",
            " 1 1 2 1 2 2 1 1 2 0 1 1 1 1 2 2 2 2 2 2 2 2 1 2 1 2 1 2 1 1 1 2 1 2 1 2 1\n",
            " 0]\n"
          ]
        }
      ],
      "source": [
        "print(y_3)"
      ]
    },
    {
      "cell_type": "code",
      "execution_count": null,
      "metadata": {
        "colab": {
          "base_uri": "https://localhost:8080/",
          "height": 560
        },
        "id": "4RO3mIhBXKJT",
        "outputId": "2e1ecbfa-dae8-472e-f9b0-eeeb52c207c5"
      },
      "outputs": [
        {
          "name": "stdout",
          "output_type": "stream",
          "text": [
            "Accuracy score: 0.820627802690583\n"
          ]
        },
        {
          "data": {
            "image/png": "[encoded data removed]",
            "text/plain": [
              "<Figure size 432x288 with 2 Axes>"
            ]
          },
          "metadata": {
            "needs_background": "light",
            "tags": []
          },
          "output_type": "display_data"
        },
        {
          "data": {
            "image/png": "[encoded data removed]",
            "text/plain": [
              "<Figure size 432x288 with 2 Axes>"
            ]
          },
          "metadata": {
            "needs_background": "light",
            "tags": []
          },
          "output_type": "display_data"
        }
      ],
      "source": [
        "print('Accuracy score: ' + str(accuracy_score(y_3, y_finale)))\n",
        "labels = ['NORMAL', 'MCI', 'DEMENTIA']\n",
        "heatmap(confusion_matrix(y_3, y_finale), annot=True, fmt= 'd', cmap=plt.cm.Blues, xticklabels=labels, yticklabels=labels)\n",
        "plt.xlabel('Predicted Label')\n",
        "plt.ylabel('True Label')\n",
        "plt.show()\n",
        "heatmap(confusion_matrix(y_3, y_finale, normalize='true'), annot=True, cmap=plt.cm.Blues, xticklabels=labels, yticklabels=labels)\n",
        "plt.xlabel('Predicted Label')\n",
        "plt.ylabel('True Label')\n",
        "plt.show()"
      ]
    }
  ],
  "metadata": {
    "colab": {
      "collapsed_sections": [],
      "name": "Seleted_models.ipynb",
      "provenance": []
    },
    "kernelspec": {
      "display_name": "Python 3",
      "name": "python3"
    },
    "language_info": {
      "codemirror_mode": {
        "name": "ipython",
        "version": 3
      },
      "file_extension": ".py",
      "mimetype": "text/x-python",
      "name": "python",
      "nbconvert_exporter": "python",
      "pygments_lexer": "ipython3",
      "version": "3.7.10"
    }
  },
  "nbformat": 4,
  "nbformat_minor": 0
}
